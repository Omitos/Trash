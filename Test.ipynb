{
 "cells": [
  {
   "cell_type": "code",
   "id": "initial_id",
   "metadata": {
    "collapsed": true,
    "ExecuteTime": {
     "end_time": "2025-05-11T11:42:51.744952Z",
     "start_time": "2025-05-11T11:42:51.699822Z"
    }
   },
   "source": [
    "from torchvision import transforms, datasets, models\n",
    "import torch.nn as nn\n",
    "import torch.optim as optim\n",
    "import torch\n",
    "import time\n",
    "import matplotlib.pyplot as plt\n",
    "from PIL import Image\n",
    "from tqdm import tqdm\n",
    "from sklearn.metrics import classification_report, confusion_matrix\n",
    "import numpy as np\n",
    "import os\n",
    "import torch\n",
    "from torch.utils.data import random_split, DataLoader\n",
    "from torch.utils.data import Subset"
   ],
   "outputs": [],
   "execution_count": 12
  },
  {
   "metadata": {
    "ExecuteTime": {
     "end_time": "2025-05-11T11:42:52.612274Z",
     "start_time": "2025-05-11T11:42:52.565549Z"
    }
   },
   "cell_type": "code",
   "source": [
    "# Image transforms\n",
    "image_transforms = {\n",
    "    'train': transforms.Compose([\n",
    "        transforms.RandomResizedCrop(256, scale=(0.8, 1.0)),\n",
    "        transforms.RandomRotation(15),\n",
    "        transforms.RandomHorizontalFlip(),\n",
    "        transforms.CenterCrop(224),\n",
    "        transforms.ToTensor(),\n",
    "        transforms.Normalize([0.485, 0.456, 0.406],\n",
    "                             [0.229, 0.224, 0.225])\n",
    "    ]),\n",
    "    'valid': transforms.Compose([\n",
    "        transforms.Resize(256),\n",
    "        transforms.CenterCrop(224),\n",
    "        transforms.ToTensor(),\n",
    "        transforms.Normalize([0.485, 0.456, 0.406],\n",
    "                             [0.229, 0.224, 0.225])\n",
    "    ]),\n",
    "    'test': transforms.Compose([\n",
    "        transforms.Resize(256),\n",
    "        transforms.CenterCrop(224),\n",
    "        transforms.ToTensor(),\n",
    "        transforms.Normalize([0.485, 0.456, 0.406],\n",
    "                             [0.229, 0.224, 0.225])\n",
    "    ])\n",
    "}"
   ],
   "id": "7c10ce7368918b89",
   "outputs": [],
   "execution_count": 13
  },
  {
   "metadata": {
    "ExecuteTime": {
     "end_time": "2025-05-11T11:43:13.249260Z",
     "start_time": "2025-05-11T11:43:13.233697Z"
    }
   },
   "cell_type": "code",
   "source": [
    "# Path to dataset\n",
    "data_dir = 'C:/Users/Омар/FinalAnalysis/TrashNet/.venv/data/dataset-resized'\n",
    "batch_size = 32\n",
    "num_classes = 6\n",
    "seed = 42"
   ],
   "id": "4fc623b7b9f63d5a",
   "outputs": [],
   "execution_count": 16
  },
  {
   "metadata": {
    "ExecuteTime": {
     "end_time": "2025-05-11T11:43:13.934153Z",
     "start_time": "2025-05-11T11:43:13.841767Z"
    }
   },
   "cell_type": "code",
   "source": [
    "# Load entire dataset temporarily (with dummy transform)\n",
    "full_dataset = datasets.ImageFolder(root=data_dir, transform=transforms.ToTensor())"
   ],
   "id": "f18c913d86c73e1b",
   "outputs": [],
   "execution_count": 17
  },
  {
   "metadata": {
    "ExecuteTime": {
     "end_time": "2025-05-11T11:43:17.349170Z",
     "start_time": "2025-05-11T11:43:17.333541Z"
    }
   },
   "cell_type": "code",
   "source": [
    "# Split dataset into train/val/test\n",
    "total_size = len(full_dataset)\n",
    "train_size = int(0.7 * total_size)\n",
    "valid_size = int(0.1 * total_size)\n",
    "test_size = total_size - train_size - valid_size"
   ],
   "id": "daeb625454e534be",
   "outputs": [],
   "execution_count": 18
  },
  {
   "metadata": {
    "ExecuteTime": {
     "end_time": "2025-05-11T11:43:18.141108Z",
     "start_time": "2025-05-11T11:43:18.109912Z"
    }
   },
   "cell_type": "code",
   "source": [
    "torch.manual_seed(seed)\n",
    "train_idx, valid_idx, test_idx = random_split(full_dataset, [train_size, valid_size, test_size])"
   ],
   "id": "5fcc09c90d4af49b",
   "outputs": [],
   "execution_count": 19
  },
  {
   "metadata": {
    "ExecuteTime": {
     "end_time": "2025-05-11T11:43:18.872102Z",
     "start_time": "2025-05-11T11:43:18.779867Z"
    }
   },
   "cell_type": "code",
   "source": [
    "# Reassign transforms per subset\n",
    "train_set = Subset(datasets.ImageFolder(root=data_dir, transform=image_transforms['train']), train_idx.indices)\n",
    "valid_set = Subset(datasets.ImageFolder(root=data_dir, transform=image_transforms['valid']), valid_idx.indices)\n",
    "test_set  = Subset(datasets.ImageFolder(root=data_dir, transform=image_transforms['test']),  test_idx.indices)"
   ],
   "id": "e9500b7eba3545b8",
   "outputs": [],
   "execution_count": 20
  },
  {
   "metadata": {
    "ExecuteTime": {
     "end_time": "2025-05-11T11:43:20.302030Z",
     "start_time": "2025-05-11T11:43:20.275856Z"
    }
   },
   "cell_type": "code",
   "source": [
    "# Create dataloaders\n",
    "train_data = DataLoader(train_set, batch_size=batch_size, shuffle=True)\n",
    "valid_data = DataLoader(valid_set, batch_size=batch_size, shuffle=False)\n",
    "test_data  = DataLoader(test_set,  batch_size=batch_size, shuffle=False)"
   ],
   "id": "c4c7401b6e60a656",
   "outputs": [],
   "execution_count": 21
  },
  {
   "metadata": {
    "ExecuteTime": {
     "end_time": "2025-05-11T11:43:20.832845Z",
     "start_time": "2025-05-11T11:43:20.816632Z"
    }
   },
   "cell_type": "code",
   "source": [
    "print(f\"Train: {len(train_set)}, Valid: {len(valid_set)}, Test: {len(test_set)}\")\n",
    "print(f\"Classes: {full_dataset.classes}\")"
   ],
   "id": "461e336f3ab0878b",
   "outputs": [
    {
     "name": "stdout",
     "output_type": "stream",
     "text": [
      "Train: 1768, Valid: 252, Test: 507\n",
      "Classes: ['cardboard', 'glass', 'metal', 'paper', 'plastic', 'trash']\n"
     ]
    }
   ],
   "execution_count": 22
  },
  {
   "metadata": {
    "ExecuteTime": {
     "end_time": "2025-05-11T12:29:20.414344Z",
     "start_time": "2025-05-11T11:43:25.075944Z"
    }
   },
   "cell_type": "code",
   "source": [
    "# Load model\n",
    "model = models.resnet50(pretrained=True)\n",
    "for param in model.parameters():\n",
    "    param.requires_grad = False\n",
    "\n",
    "fc_inputs = model.fc.in_features\n",
    "model.fc = nn.Sequential(\n",
    "    nn.Linear(fc_inputs, 256),\n",
    "    nn.ReLU(),\n",
    "    nn.Dropout(0.4),\n",
    "    nn.Linear(256, num_classes),\n",
    "    nn.LogSoftmax(dim=1)\n",
    ")\n",
    "\n",
    "device = torch.device(\"cuda:0\" if torch.cuda.is_available() else \"cpu\")\n",
    "model = model.to(device)\n",
    "\n",
    "# Loss and optimizer\n",
    "loss_criterion = nn.NLLLoss()\n",
    "optimizer = optim.Adam(model.parameters())\n",
    "\n",
    "# Training loop with tqdm\n",
    "epochs = 20\n",
    "\n",
    "for epoch in range(epochs):\n",
    "    start_time = time.time()\n",
    "    print(f\"\\nEpoch {epoch+1}/{epochs}\")\n",
    "\n",
    "    # Training phase\n",
    "    model.train()\n",
    "    train_loss, train_acc = 0.0, 0.0\n",
    "    loop = tqdm(train_data, desc=\"Training\", leave=False)\n",
    "    for inputs, labels in loop:\n",
    "        inputs, labels = inputs.to(device), labels.to(device)\n",
    "        optimizer.zero_grad()\n",
    "        outputs = model(inputs)\n",
    "        loss = loss_criterion(outputs, labels)\n",
    "        loss.backward()\n",
    "        optimizer.step()\n",
    "\n",
    "        train_loss += loss.item() * inputs.size(0)\n",
    "        _, preds = torch.max(outputs.data, 1)\n",
    "        train_acc += torch.sum(preds == labels).item()\n",
    "\n",
    "        loop.set_postfix(loss=loss.item())"
   ],
   "id": "cc7bfee1b6dd4c5d",
   "outputs": [
    {
     "name": "stderr",
     "output_type": "stream",
     "text": [
      "C:\\Users\\Омар\\FinalAnalysis\\TrashNet\\.venv\\lib\\site-packages\\torchvision\\models\\_utils.py:208: UserWarning: The parameter 'pretrained' is deprecated since 0.13 and may be removed in the future, please use 'weights' instead.\n",
      "  warnings.warn(\n",
      "C:\\Users\\Омар\\FinalAnalysis\\TrashNet\\.venv\\lib\\site-packages\\torchvision\\models\\_utils.py:223: UserWarning: Arguments other than a weight enum or `None` for 'weights' are deprecated since 0.13 and may be removed in the future. The current behavior is equivalent to passing `weights=ResNet50_Weights.IMAGENET1K_V1`. You can also use `weights=ResNet50_Weights.DEFAULT` to get the most up-to-date weights.\n",
      "  warnings.warn(msg)\n"
     ]
    },
    {
     "name": "stdout",
     "output_type": "stream",
     "text": [
      "Downloading: \"https://download.pytorch.org/models/resnet50-0676ba61.pth\" to C:\\Users\\Омар/.cache\\torch\\hub\\checkpoints\\resnet50-0676ba61.pth\n"
     ]
    },
    {
     "name": "stderr",
     "output_type": "stream",
     "text": [
      "100%|██████████| 97.8M/97.8M [00:07<00:00, 14.3MB/s]\n"
     ]
    },
    {
     "name": "stdout",
     "output_type": "stream",
     "text": [
      "\n",
      "Epoch 1/20\n"
     ]
    },
    {
     "name": "stderr",
     "output_type": "stream",
     "text": [
      "                                                                     \r"
     ]
    },
    {
     "name": "stdout",
     "output_type": "stream",
     "text": [
      "\n",
      "Epoch 2/20\n"
     ]
    },
    {
     "name": "stderr",
     "output_type": "stream",
     "text": [
      "                                                                     \r"
     ]
    },
    {
     "name": "stdout",
     "output_type": "stream",
     "text": [
      "\n",
      "Epoch 3/20\n"
     ]
    },
    {
     "name": "stderr",
     "output_type": "stream",
     "text": [
      "                                                                     \r"
     ]
    },
    {
     "name": "stdout",
     "output_type": "stream",
     "text": [
      "\n",
      "Epoch 4/20\n"
     ]
    },
    {
     "name": "stderr",
     "output_type": "stream",
     "text": [
      "                                                                     \r"
     ]
    },
    {
     "name": "stdout",
     "output_type": "stream",
     "text": [
      "\n",
      "Epoch 5/20\n"
     ]
    },
    {
     "name": "stderr",
     "output_type": "stream",
     "text": [
      "                                                                     \r"
     ]
    },
    {
     "name": "stdout",
     "output_type": "stream",
     "text": [
      "\n",
      "Epoch 6/20\n"
     ]
    },
    {
     "name": "stderr",
     "output_type": "stream",
     "text": [
      "                                                                     \r"
     ]
    },
    {
     "name": "stdout",
     "output_type": "stream",
     "text": [
      "\n",
      "Epoch 7/20\n"
     ]
    },
    {
     "name": "stderr",
     "output_type": "stream",
     "text": [
      "                                                                     \r"
     ]
    },
    {
     "name": "stdout",
     "output_type": "stream",
     "text": [
      "\n",
      "Epoch 8/20\n"
     ]
    },
    {
     "name": "stderr",
     "output_type": "stream",
     "text": [
      "                                                                     \r"
     ]
    },
    {
     "name": "stdout",
     "output_type": "stream",
     "text": [
      "\n",
      "Epoch 9/20\n"
     ]
    },
    {
     "name": "stderr",
     "output_type": "stream",
     "text": [
      "                                                                     \r"
     ]
    },
    {
     "name": "stdout",
     "output_type": "stream",
     "text": [
      "\n",
      "Epoch 10/20\n"
     ]
    },
    {
     "name": "stderr",
     "output_type": "stream",
     "text": [
      "                                                                     \r"
     ]
    },
    {
     "name": "stdout",
     "output_type": "stream",
     "text": [
      "\n",
      "Epoch 11/20\n"
     ]
    },
    {
     "name": "stderr",
     "output_type": "stream",
     "text": [
      "                                                                     \r"
     ]
    },
    {
     "name": "stdout",
     "output_type": "stream",
     "text": [
      "\n",
      "Epoch 12/20\n"
     ]
    },
    {
     "name": "stderr",
     "output_type": "stream",
     "text": [
      "                                                                     \r"
     ]
    },
    {
     "name": "stdout",
     "output_type": "stream",
     "text": [
      "\n",
      "Epoch 13/20\n"
     ]
    },
    {
     "name": "stderr",
     "output_type": "stream",
     "text": [
      "                                                                     \r"
     ]
    },
    {
     "name": "stdout",
     "output_type": "stream",
     "text": [
      "\n",
      "Epoch 14/20\n"
     ]
    },
    {
     "name": "stderr",
     "output_type": "stream",
     "text": [
      "                                                                      \r"
     ]
    },
    {
     "name": "stdout",
     "output_type": "stream",
     "text": [
      "\n",
      "Epoch 15/20\n"
     ]
    },
    {
     "name": "stderr",
     "output_type": "stream",
     "text": [
      "                                                                     \r"
     ]
    },
    {
     "name": "stdout",
     "output_type": "stream",
     "text": [
      "\n",
      "Epoch 16/20\n"
     ]
    },
    {
     "name": "stderr",
     "output_type": "stream",
     "text": [
      "                                                                     \r"
     ]
    },
    {
     "name": "stdout",
     "output_type": "stream",
     "text": [
      "\n",
      "Epoch 17/20\n"
     ]
    },
    {
     "name": "stderr",
     "output_type": "stream",
     "text": [
      "                                                                     \r"
     ]
    },
    {
     "name": "stdout",
     "output_type": "stream",
     "text": [
      "\n",
      "Epoch 18/20\n"
     ]
    },
    {
     "name": "stderr",
     "output_type": "stream",
     "text": [
      "                                                                     \r"
     ]
    },
    {
     "name": "stdout",
     "output_type": "stream",
     "text": [
      "\n",
      "Epoch 19/20\n"
     ]
    },
    {
     "name": "stderr",
     "output_type": "stream",
     "text": [
      "                                                                     \r"
     ]
    },
    {
     "name": "stdout",
     "output_type": "stream",
     "text": [
      "\n",
      "Epoch 20/20\n"
     ]
    },
    {
     "name": "stderr",
     "output_type": "stream",
     "text": [
      "                                                                     \r"
     ]
    }
   ],
   "execution_count": 23
  },
  {
   "metadata": {
    "ExecuteTime": {
     "end_time": "2025-05-11T13:19:34.233798Z",
     "start_time": "2025-05-11T13:19:16.617489Z"
    }
   },
   "cell_type": "code",
   "source": [
    "# Validation phase\n",
    "model.eval()\n",
    "val_loss, val_acc = 0.0, 0.0\n",
    "all_preds = []\n",
    "all_labels = []\n",
    "\n",
    "with torch.no_grad():\n",
    "    loop = tqdm(valid_data, desc=\"Validating\", leave=False)\n",
    "    for inputs, labels in loop:\n",
    "        inputs, labels = inputs.to(device), labels.to(device)\n",
    "        outputs = model(inputs)\n",
    "        loss = loss_criterion(outputs, labels)\n",
    "\n",
    "        val_loss += loss.item() * inputs.size(0)\n",
    "        _, preds = torch.max(outputs.data, 1)\n",
    "        val_acc += torch.sum(preds == labels).item()\n",
    "\n",
    "        all_preds.extend(preds.cpu().numpy())\n",
    "        all_labels.extend(labels.cpu().numpy())\n",
    "\n",
    "        loop.set_postfix(loss=loss.item())\n",
    "\n",
    "# Average loss and accuracy\n",
    "val_loss /= len(valid_data.dataset)\n",
    "val_acc /= len(valid_data.dataset)\n",
    "\n",
    "# Classification report\n",
    "print(\"\\nValidation Metrics:\")\n",
    "print(f\"Val Loss: {val_loss:.4f}, Val Accuracy: {val_acc:.4f}\")\n",
    "print(\"\\nClassification Report:\")\n",
    "print(classification_report(all_labels, all_preds, target_names=full_dataset.classes))\n",
    "\n",
    "# Confusion Matrix (optional, for display/debugging)\n",
    "conf_matrix = confusion_matrix(all_labels, all_preds)\n",
    "print(\"Confusion Matrix:\")\n",
    "print(conf_matrix)"
   ],
   "id": "126bfdad7152a4a3",
   "outputs": [
    {
     "name": "stderr",
     "output_type": "stream",
     "text": [
      "                                                                     "
     ]
    },
    {
     "name": "stdout",
     "output_type": "stream",
     "text": [
      "\n",
      "Validation Metrics:\n",
      "Val Loss: 0.5316, Val Accuracy: 0.8532\n",
      "\n",
      "Classification Report:\n",
      "              precision    recall  f1-score   support\n",
      "\n",
      "   cardboard       0.82      0.92      0.87        36\n",
      "       glass       0.87      0.85      0.86        40\n",
      "       metal       0.80      0.91      0.85        43\n",
      "       paper       0.88      0.91      0.90        58\n",
      "     plastic       0.88      0.87      0.87        60\n",
      "       trash       0.80      0.27      0.40        15\n",
      "\n",
      "    accuracy                           0.85       252\n",
      "   macro avg       0.84      0.79      0.79       252\n",
      "weighted avg       0.85      0.85      0.84       252\n",
      "\n",
      "Confusion Matrix:\n",
      "[[33  0  1  2  0  0]\n",
      " [ 0 34  4  0  2  0]\n",
      " [ 0  2 39  1  0  1]\n",
      " [ 3  0  0 53  2  0]\n",
      " [ 1  3  2  2 52  0]\n",
      " [ 3  0  3  2  3  4]]\n"
     ]
    },
    {
     "name": "stderr",
     "output_type": "stream",
     "text": [
      "\r"
     ]
    }
   ],
   "execution_count": 25
  },
  {
   "metadata": {
    "ExecuteTime": {
     "end_time": "2025-05-11T13:21:37.506959Z",
     "start_time": "2025-05-11T13:21:37.491532Z"
    }
   },
   "cell_type": "code",
   "source": [
    "# Ensure ASCII-safe and permission-safe path\n",
    "model_dir = '../.venv/model_output'\n",
    "os.makedirs(model_dir, exist_ok=True)\n",
    "filepath = os.path.join(model_dir, 'trashnet.pt')"
   ],
   "id": "cda1629290d360ae",
   "outputs": [],
   "execution_count": 28
  },
  {
   "metadata": {
    "ExecuteTime": {
     "end_time": "2025-05-11T13:21:39.127240Z",
     "start_time": "2025-05-11T13:21:38.979486Z"
    }
   },
   "cell_type": "code",
   "source": [
    "# Save model\n",
    "torch.save(model.state_dict(), filepath)\n",
    "print(f\"Model saved to {filepath}\")"
   ],
   "id": "4c10d8ce97e8de70",
   "outputs": [
    {
     "name": "stdout",
     "output_type": "stream",
     "text": [
      "Model saved to model_output\\trashnet.pt\n"
     ]
    }
   ],
   "execution_count": 29
  },
  {
   "metadata": {
    "ExecuteTime": {
     "end_time": "2025-05-11T13:28:49.526347Z",
     "start_time": "2025-05-11T13:28:49.513311Z"
    }
   },
   "cell_type": "code",
   "source": [
    "# Define class names based on folder order in your dataset\n",
    "class_names = [\n",
    "    'cardboard',\n",
    "    'glass',\n",
    "    'metal',\n",
    "    'paper',\n",
    "    'plastic',\n",
    "    'trash'\n",
    "]"
   ],
   "id": "ecce66f234693370",
   "outputs": [],
   "execution_count": 32
  },
  {
   "metadata": {
    "ExecuteTime": {
     "end_time": "2025-05-11T13:29:00.632646Z",
     "start_time": "2025-05-11T13:29:00.617019Z"
    }
   },
   "cell_type": "code",
   "source": [
    "# Image transform (must match validation/test transform used in training)\n",
    "image_transform = transforms.Compose([\n",
    "    transforms.Resize(256),\n",
    "    transforms.CenterCrop(224),\n",
    "    transforms.ToTensor(),\n",
    "    transforms.Normalize([0.485, 0.456, 0.406],\n",
    "                         [0.229, 0.224, 0.225])\n",
    "])"
   ],
   "id": "cf3987a4de18f62d",
   "outputs": [],
   "execution_count": 33
  },
  {
   "metadata": {
    "ExecuteTime": {
     "end_time": "2025-05-11T13:31:46.994649Z",
     "start_time": "2025-05-11T13:31:46.978878Z"
    }
   },
   "cell_type": "code",
   "source": [
    "def predict(model, image_path):\n",
    "    image = Image.open(image_path).convert(\"RGB\")\n",
    "    transformed = image_transform(image).unsqueeze(0).to(device)\n",
    "\n",
    "    with torch.no_grad():\n",
    "        output = model(transformed)\n",
    "        _, predicted = torch.max(output, 1)\n",
    "    return predicted.item(), image"
   ],
   "id": "4ebe2d201b229457",
   "outputs": [],
   "execution_count": 42
  },
  {
   "metadata": {
    "ExecuteTime": {
     "end_time": "2025-05-11T13:31:47.522054Z",
     "start_time": "2025-05-11T13:31:47.506613Z"
    }
   },
   "cell_type": "code",
   "source": [
    "def make_prediction(model_path, image_path):\n",
    "    model = models.resnet50(pretrained=False)\n",
    "    fc_inputs = model.fc.in_features\n",
    "    model.fc = nn.Sequential(\n",
    "        nn.Linear(fc_inputs, 256),\n",
    "        nn.ReLU(),\n",
    "        nn.Dropout(0.4),\n",
    "        nn.Linear(256, 6),\n",
    "        nn.LogSoftmax(dim=1)\n",
    "    )\n",
    "\n",
    "    model.load_state_dict(torch.load(model_path, map_location=device))\n",
    "    model.eval()\n",
    "\n",
    "    predicted_idx, original_image = predict(model, image_path)\n",
    "    predicted_label = class_names[predicted_idx]\n",
    "\n",
    "    # Show image with prediction\n",
    "    plt.imshow(original_image)\n",
    "    plt.title(f\"Predicted: {predicted_label}\")\n",
    "    plt.axis('off')\n",
    "    plt.show()\n",
    "\n",
    "    return predicted_label"
   ],
   "id": "8416b398aa0f4564",
   "outputs": [],
   "execution_count": 43
  },
  {
   "metadata": {
    "ExecuteTime": {
     "end_time": "2025-05-11T13:31:48.683410Z",
     "start_time": "2025-05-11T13:31:48.667281Z"
    }
   },
   "cell_type": "code",
   "source": [
    "# Set device\n",
    "device = torch.device(\"cuda\" if torch.cuda.is_available() else \"cpu\")"
   ],
   "id": "dce139be0ecf8bcf",
   "outputs": [],
   "execution_count": 44
  },
  {
   "metadata": {
    "ExecuteTime": {
     "end_time": "2025-05-11T13:31:49.728417Z",
     "start_time": "2025-05-11T13:31:49.184820Z"
    }
   },
   "cell_type": "code",
   "source": [
    "# Entry point\n",
    "if __name__ == '__main__':\n",
    "    model_path = '/src/model_output/trashnet.pt'  # Adjust as needed\n",
    "    image_path = 'C:/Users/Омар/FinalAnalysis/TrashNet/.venv/data/dataset-resized/metal/metal2.jpg'  # Replace with your test image path\n",
    "\n",
    "    result = make_prediction(model_path, image_path)\n",
    "    print(\"Predicted class:\", result)"
   ],
   "id": "9ba477fd375f3d50",
   "outputs": [
    {
     "data": {
      "text/plain": [
       "<Figure size 640x480 with 1 Axes>"
      ],
      "image/png": "[encoded data removed]"
     },
     "metadata": {},
     "output_type": "display_data"
    },
    {
     "name": "stdout",
     "output_type": "stream",
     "text": [
      "Predicted class: metal\n"
     ]
    }
   ],
   "execution_count": 45
  },
  {
   "metadata": {},
   "cell_type": "code",
   "outputs": [],
   "execution_count": null,
   "source": "",
   "id": "d776972037909ec9"
  }
 ],
 "metadata": {
  "kernelspec": {
   "display_name": "Python 3",
   "language": "python",
   "name": "python3"
  },
  "language_info": {
   "codemirror_mode": {
    "name": "ipython",
    "version": 2
   },
   "file_extension": ".py",
   "mimetype": "text/x-python",
   "name": "python",
   "nbconvert_exporter": "python",
   "pygments_lexer": "ipython2",
   "version": "2.7.6"
  }
 },
 "nbformat": 4,
 "nbformat_minor": 5
}
